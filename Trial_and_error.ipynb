{
  "nbformat": 4,
  "nbformat_minor": 0,
  "metadata": {
    "accelerator": "GPU",
    "colab": {
      "name": "Trial and error.ipynb",
      "provenance": [],
      "collapsed_sections": [],
      "include_colab_link": true
    },
    "kernelspec": {
      "display_name": "Python 3",
      "name": "python3"
    },
    "widgets": {
      "application/vnd.jupyter.widget-state+json": {
        "08eb9aa0041e4c2aaf55c60ea53b0c6f": {
          "model_module": "@jupyter-widgets/controls",
          "model_name": "HBoxModel",
          "state": {
            "_view_name": "HBoxView",
            "_dom_classes": [],
            "_model_name": "HBoxModel",
            "_view_module": "@jupyter-widgets/controls",
            "_model_module_version": "1.5.0",
            "_view_count": null,
            "_view_module_version": "1.5.0",
            "box_style": "",
            "layout": "IPY_MODEL_87efd9bc477d448890eb13490cbfdf24",
            "_model_module": "@jupyter-widgets/controls",
            "children": [
              "IPY_MODEL_c57b8628979845eb98d819971c21f7c1",
              "IPY_MODEL_b708933926f34e9bb85e8acd4348eb8f"
            ]
          }
        },
        "87efd9bc477d448890eb13490cbfdf24": {
          "model_module": "@jupyter-widgets/base",
          "model_name": "LayoutModel",
          "state": {
            "_view_name": "LayoutView",
            "grid_template_rows": null,
            "right": null,
            "justify_content": null,
            "_view_module": "@jupyter-widgets/base",
            "overflow": null,
            "_model_module_version": "1.2.0",
            "_view_count": null,
            "flex_flow": null,
            "width": null,
            "min_width": null,
            "border": null,
            "align_items": null,
            "bottom": null,
            "_model_module": "@jupyter-widgets/base",
            "top": null,
            "grid_column": null,
            "overflow_y": null,
            "overflow_x": null,
            "grid_auto_flow": null,
            "grid_area": null,
            "grid_template_columns": null,
            "flex": null,
            "_model_name": "LayoutModel",
            "justify_items": null,
            "grid_row": null,
            "max_height": null,
            "align_content": null,
            "visibility": null,
            "align_self": null,
            "height": null,
            "min_height": null,
            "padding": null,
            "grid_auto_rows": null,
            "grid_gap": null,
            "max_width": null,
            "order": null,
            "_view_module_version": "1.2.0",
            "grid_template_areas": null,
            "object_position": null,
            "object_fit": null,
            "grid_auto_columns": null,
            "margin": null,
            "display": null,
            "left": null
          }
        },
        "c57b8628979845eb98d819971c21f7c1": {
          "model_module": "@jupyter-widgets/controls",
          "model_name": "FloatProgressModel",
          "state": {
            "_view_name": "ProgressView",
            "style": "IPY_MODEL_89d4034bc70345c793557043d5e323f5",
            "_dom_classes": [],
            "description": "100%",
            "_model_name": "FloatProgressModel",
            "bar_style": "success",
            "max": 46827520,
            "_view_module": "@jupyter-widgets/controls",
            "_model_module_version": "1.5.0",
            "value": 46827520,
            "_view_count": null,
            "_view_module_version": "1.5.0",
            "orientation": "horizontal",
            "min": 0,
            "description_tooltip": null,
            "_model_module": "@jupyter-widgets/controls",
            "layout": "IPY_MODEL_43537b1a59c14f65965715aa378eb898"
          }
        },
        "b708933926f34e9bb85e8acd4348eb8f": {
          "model_module": "@jupyter-widgets/controls",
          "model_name": "HTMLModel",
          "state": {
            "_view_name": "HTMLView",
            "style": "IPY_MODEL_2305be4fc37a4339a35043417f434561",
            "_dom_classes": [],
            "description": "",
            "_model_name": "HTMLModel",
            "placeholder": "​",
            "_view_module": "@jupyter-widgets/controls",
            "_model_module_version": "1.5.0",
            "value": " 44.7M/44.7M [00:18&lt;00:00, 2.54MB/s]",
            "_view_count": null,
            "_view_module_version": "1.5.0",
            "description_tooltip": null,
            "_model_module": "@jupyter-widgets/controls",
            "layout": "IPY_MODEL_f2ae2ec523f244e7a16f99bf2ac0349c"
          }
        },
        "89d4034bc70345c793557043d5e323f5": {
          "model_module": "@jupyter-widgets/controls",
          "model_name": "ProgressStyleModel",
          "state": {
            "_view_name": "StyleView",
            "_model_name": "ProgressStyleModel",
            "description_width": "initial",
            "_view_module": "@jupyter-widgets/base",
            "_model_module_version": "1.5.0",
            "_view_count": null,
            "_view_module_version": "1.2.0",
            "bar_color": null,
            "_model_module": "@jupyter-widgets/controls"
          }
        },
        "43537b1a59c14f65965715aa378eb898": {
          "model_module": "@jupyter-widgets/base",
          "model_name": "LayoutModel",
          "state": {
            "_view_name": "LayoutView",
            "grid_template_rows": null,
            "right": null,
            "justify_content": null,
            "_view_module": "@jupyter-widgets/base",
            "overflow": null,
            "_model_module_version": "1.2.0",
            "_view_count": null,
            "flex_flow": null,
            "width": null,
            "min_width": null,
            "border": null,
            "align_items": null,
            "bottom": null,
            "_model_module": "@jupyter-widgets/base",
            "top": null,
            "grid_column": null,
            "overflow_y": null,
            "overflow_x": null,
            "grid_auto_flow": null,
            "grid_area": null,
            "grid_template_columns": null,
            "flex": null,
            "_model_name": "LayoutModel",
            "justify_items": null,
            "grid_row": null,
            "max_height": null,
            "align_content": null,
            "visibility": null,
            "align_self": null,
            "height": null,
            "min_height": null,
            "padding": null,
            "grid_auto_rows": null,
            "grid_gap": null,
            "max_width": null,
            "order": null,
            "_view_module_version": "1.2.0",
            "grid_template_areas": null,
            "object_position": null,
            "object_fit": null,
            "grid_auto_columns": null,
            "margin": null,
            "display": null,
            "left": null
          }
        },
        "2305be4fc37a4339a35043417f434561": {
          "model_module": "@jupyter-widgets/controls",
          "model_name": "DescriptionStyleModel",
          "state": {
            "_view_name": "StyleView",
            "_model_name": "DescriptionStyleModel",
            "description_width": "",
            "_view_module": "@jupyter-widgets/base",
            "_model_module_version": "1.5.0",
            "_view_count": null,
            "_view_module_version": "1.2.0",
            "_model_module": "@jupyter-widgets/controls"
          }
        },
        "f2ae2ec523f244e7a16f99bf2ac0349c": {
          "model_module": "@jupyter-widgets/base",
          "model_name": "LayoutModel",
          "state": {
            "_view_name": "LayoutView",
            "grid_template_rows": null,
            "right": null,
            "justify_content": null,
            "_view_module": "@jupyter-widgets/base",
            "overflow": null,
            "_model_module_version": "1.2.0",
            "_view_count": null,
            "flex_flow": null,
            "width": null,
            "min_width": null,
            "border": null,
            "align_items": null,
            "bottom": null,
            "_model_module": "@jupyter-widgets/base",
            "top": null,
            "grid_column": null,
            "overflow_y": null,
            "overflow_x": null,
            "grid_auto_flow": null,
            "grid_area": null,
            "grid_template_columns": null,
            "flex": null,
            "_model_name": "LayoutModel",
            "justify_items": null,
            "grid_row": null,
            "max_height": null,
            "align_content": null,
            "visibility": null,
            "align_self": null,
            "height": null,
            "min_height": null,
            "padding": null,
            "grid_auto_rows": null,
            "grid_gap": null,
            "max_width": null,
            "order": null,
            "_view_module_version": "1.2.0",
            "grid_template_areas": null,
            "object_position": null,
            "object_fit": null,
            "grid_auto_columns": null,
            "margin": null,
            "display": null,
            "left": null
          }
        }
      }
    }
  },
  "cells": [
    {
      "cell_type": "markdown",
      "metadata": {
        "id": "view-in-github",
        "colab_type": "text"
      },
      "source": [
        "<a href=\"https://colab.research.google.com/github/riya-chougule/Image_segmentation_for_self_driving_cars_using_deep_learning_techniques/blob/main/Trial_and_error.ipynb\" target=\"_parent\"><img src=\"https://colab.research.google.com/assets/colab-badge.svg\" alt=\"Open In Colab\"/></a>"
      ]
    },
    {
      "cell_type": "code",
      "metadata": {
        "id": "vsaPUPp8ccba"
      },
      "source": [
        "import os\n",
        "os.environ['KAGGLE_CONFIG_DIR'] = \"/content/drive/My Drive/Kaggle\""
      ],
      "execution_count": 1,
      "outputs": []
    },
    {
      "cell_type": "code",
      "metadata": {
        "id": "ywI5Y9vLefLM"
      },
      "source": [
        "from pathlib import Path\n",
        "from fastai.vision import *\n",
        "import wandb\n",
        "from wandb.fastai import WandbCallback\n",
        "from functools import partialmethod"
      ],
      "execution_count": 2,
      "outputs": []
    },
    {
      "cell_type": "code",
      "metadata": {
        "id": "U8LhOn2ietHo"
      },
      "source": [
        "wandb.init(project=\"semantic-segmentation\")"
      ],
      "execution_count": null,
      "outputs": []
    },
    {
      "cell_type": "code",
      "metadata": {
        "id": "S-BwnAU9ezvL"
      },
      "source": [
        "config = wandb.config           # for shortening\n",
        "config.framework = \"fast.ai\"    \n",
        "config.img_size = (360, 640)    # dimensions of resized image - can be 1 dim or tuple\n",
        "config.batch_size = 4           # Batch size during training\n",
        "config.epochs = 20              # Number of epochs for training\n",
        "encoder = models.resnet18       \n",
        "config.encoder = encoder.__name__\n",
        "config.pretrained = True       \n",
        "config.weight_decay = 1e-4      # weight decay applied on layers\n",
        "config.bn_weight_decay = False  \n",
        "config.one_cycle = True        \n",
        "config.learning_rate = 3e-3     # learning rate\n",
        "save_model = True"
      ],
      "execution_count": 4,
      "outputs": []
    },
    {
      "cell_type": "code",
      "metadata": {
        "id": "eGorsBsTfUBt"
      },
      "source": [
        "config.training_stages = 2\n",
        "path_data = Path('../data/bdd100k/seg')\n",
        "path_lbl = path_data / 'labels'\n",
        "path_img = path_data / 'images'\n",
        "\n",
        "path_data = Path('/content/drive/MyDrive/Kaggle/bdd100k_seg/bdd100k/seg')\n",
        "path_lbl = path_data / 'labels'\n",
        "path_img = path_data / 'images'\n",
        "\n",
        "get_y_fn = lambda x: path_lbl / x.parts[-2] / f'{x.stem}_train_id.png'"
      ],
      "execution_count": 5,
      "outputs": []
    },
    {
      "cell_type": "code",
      "metadata": {
        "id": "JgetzBNgfkob"
      },
      "source": [
        "segmentation_classes = [\n",
        "    'road', 'sidewalk', 'building', 'wall', 'fence', 'pole', 'traffic light',\n",
        "    'traffic sign', 'vegetation', 'terrain', 'sky', 'person', 'rider', 'car',\n",
        "    'truck', 'bus', 'train', 'motorcycle', 'bicycle', 'void'\n",
        "]\n",
        "void_code = 19"
      ],
      "execution_count": 6,
      "outputs": []
    },
    {
      "cell_type": "code",
      "metadata": {
        "id": "BUJVgHSbfqBT"
      },
      "source": [
        "src = (SegmentationItemList.from_folder(path_img).use_partial_data(0.01)\n",
        "       .split_by_folder(train='train', valid='val')\n",
        "       .label_from_func(get_y_fn, classes=segmentation_classes))\n",
        "data = (src.transform(get_transforms(), size=config.img_size, tfm_y=True)\n",
        "        .databunch(bs=config.batch_size)\n",
        "        .normalize(imagenet_stats))"
      ],
      "execution_count": 7,
      "outputs": []
    },
    {
      "cell_type": "code",
      "metadata": {
        "colab": {
          "base_uri": "https://localhost:8080/",
          "height": 82,
          "referenced_widgets": [
            "08eb9aa0041e4c2aaf55c60ea53b0c6f",
            "87efd9bc477d448890eb13490cbfdf24",
            "c57b8628979845eb98d819971c21f7c1",
            "b708933926f34e9bb85e8acd4348eb8f",
            "89d4034bc70345c793557043d5e323f5",
            "43537b1a59c14f65965715aa378eb898",
            "2305be4fc37a4339a35043417f434561",
            "f2ae2ec523f244e7a16f99bf2ac0349c"
          ]
        },
        "id": "9xztLJafgFfM",
        "outputId": "2c231e95-c16d-4e49-cb72-6382a3ce4a4c"
      },
      "source": [
        "def acc(input, target):\n",
        "    target = target.squeeze(1)\n",
        "    mask = target != void_code\n",
        "    return (input.argmax(dim=1)[mask] == target[mask]).float().mean()\n",
        "    \n",
        "learn = unet_learner(\n",
        "data,arch=encoder,\n",
        "pretrained=config.pretrained,\n",
        "metrics=acc,\n",
        "wd=config.weight_decay,\n",
        "bn_wd=config.bn_weight_decay,\n",
        "callback_fns=partial(WandbCallback, save_model=save_model, monitor='acc', input_type='images'))"
      ],
      "execution_count": 8,
      "outputs": [
        {
          "output_type": "stream",
          "text": [
            "Downloading: \"https://download.pytorch.org/models/resnet18-5c106cde.pth\" to /root/.cache/torch/hub/checkpoints/resnet18-5c106cde.pth\n"
          ],
          "name": "stderr"
        },
        {
          "output_type": "display_data",
          "data": {
            "application/vnd.jupyter.widget-view+json": {
              "model_id": "08eb9aa0041e4c2aaf55c60ea53b0c6f",
              "version_minor": 0,
              "version_major": 2
            },
            "text/plain": [
              "HBox(children=(FloatProgress(value=0.0, max=46827520.0), HTML(value='')))"
            ]
          },
          "metadata": {
            "tags": []
          }
        },
        {
          "output_type": "stream",
          "text": [
            "\n"
          ],
          "name": "stdout"
        }
      ]
    },
    {
      "cell_type": "code",
      "metadata": {
        "colab": {
          "base_uri": "https://localhost:8080/",
          "height": 949
        },
        "id": "PF9utnxIggx-",
        "outputId": "938255b8-773b-4d9f-e607-0616468bb663"
      },
      "source": [
        "if config.one_cycle:\n",
        "    learn.fit_one_cycle(\n",
        "        config.epochs // 2,\n",
        "        max_lr=slice(config.learning_rate))\n",
        "    learn.unfreeze()\n",
        "    learn.fit_one_cycle(\n",
        "        config.epochs // 2,\n",
        "        max_lr=slice(config.learning_rate / 100,\n",
        "                     config.learning_rate / 10))\n",
        "else:\n",
        "    learn.fit(\n",
        "        config.epochs,\n",
        "        lr=slice(config.learning_rate))"
      ],
      "execution_count": 9,
      "outputs": [
        {
          "output_type": "display_data",
          "data": {
            "text/html": [
              "<table border=\"1\" class=\"dataframe\">\n",
              "  <thead>\n",
              "    <tr style=\"text-align: left;\">\n",
              "      <th>epoch</th>\n",
              "      <th>train_loss</th>\n",
              "      <th>valid_loss</th>\n",
              "      <th>acc</th>\n",
              "      <th>time</th>\n",
              "    </tr>\n",
              "  </thead>\n",
              "  <tbody>\n",
              "    <tr>\n",
              "      <td>0</td>\n",
              "      <td>2.173371</td>\n",
              "      <td>1.798965</td>\n",
              "      <td>0.401049</td>\n",
              "      <td>00:32</td>\n",
              "    </tr>\n",
              "    <tr>\n",
              "      <td>1</td>\n",
              "      <td>2.080833</td>\n",
              "      <td>1.803222</td>\n",
              "      <td>0.509240</td>\n",
              "      <td>00:12</td>\n",
              "    </tr>\n",
              "    <tr>\n",
              "      <td>2</td>\n",
              "      <td>1.963311</td>\n",
              "      <td>1.610194</td>\n",
              "      <td>0.502058</td>\n",
              "      <td>00:12</td>\n",
              "    </tr>\n",
              "    <tr>\n",
              "      <td>3</td>\n",
              "      <td>1.858761</td>\n",
              "      <td>1.606590</td>\n",
              "      <td>0.509429</td>\n",
              "      <td>00:12</td>\n",
              "    </tr>\n",
              "    <tr>\n",
              "      <td>4</td>\n",
              "      <td>1.807084</td>\n",
              "      <td>1.740840</td>\n",
              "      <td>0.379153</td>\n",
              "      <td>00:12</td>\n",
              "    </tr>\n",
              "    <tr>\n",
              "      <td>5</td>\n",
              "      <td>1.808891</td>\n",
              "      <td>1.592705</td>\n",
              "      <td>0.502687</td>\n",
              "      <td>00:12</td>\n",
              "    </tr>\n",
              "    <tr>\n",
              "      <td>6</td>\n",
              "      <td>1.748507</td>\n",
              "      <td>1.355192</td>\n",
              "      <td>0.612529</td>\n",
              "      <td>00:12</td>\n",
              "    </tr>\n",
              "    <tr>\n",
              "      <td>7</td>\n",
              "      <td>1.649334</td>\n",
              "      <td>1.203429</td>\n",
              "      <td>0.685874</td>\n",
              "      <td>00:12</td>\n",
              "    </tr>\n",
              "    <tr>\n",
              "      <td>8</td>\n",
              "      <td>1.538610</td>\n",
              "      <td>1.072047</td>\n",
              "      <td>0.729134</td>\n",
              "      <td>00:12</td>\n",
              "    </tr>\n",
              "    <tr>\n",
              "      <td>9</td>\n",
              "      <td>1.422076</td>\n",
              "      <td>1.078835</td>\n",
              "      <td>0.722991</td>\n",
              "      <td>00:12</td>\n",
              "    </tr>\n",
              "  </tbody>\n",
              "</table>"
            ],
            "text/plain": [
              "<IPython.core.display.HTML object>"
            ]
          },
          "metadata": {
            "tags": []
          }
        },
        {
          "output_type": "stream",
          "text": [
            "Better model found at epoch 0 with acc value: 0.4010494649410248.\n",
            "Better model found at epoch 1 with acc value: 0.5092397332191467.\n",
            "Better model found at epoch 3 with acc value: 0.509429395198822.\n",
            "Better model found at epoch 6 with acc value: 0.6125292778015137.\n",
            "Better model found at epoch 7 with acc value: 0.6858735680580139.\n",
            "Better model found at epoch 8 with acc value: 0.7291343808174133.\n",
            "Loaded best saved model from /content/wandb/run-20210605_182558-33poaf2p/files/bestmodel.pth\n"
          ],
          "name": "stdout"
        },
        {
          "output_type": "display_data",
          "data": {
            "text/html": [
              "<table border=\"1\" class=\"dataframe\">\n",
              "  <thead>\n",
              "    <tr style=\"text-align: left;\">\n",
              "      <th>epoch</th>\n",
              "      <th>train_loss</th>\n",
              "      <th>valid_loss</th>\n",
              "      <th>acc</th>\n",
              "      <th>time</th>\n",
              "    </tr>\n",
              "  </thead>\n",
              "  <tbody>\n",
              "    <tr>\n",
              "      <td>0</td>\n",
              "      <td>1.184307</td>\n",
              "      <td>1.024752</td>\n",
              "      <td>0.748948</td>\n",
              "      <td>00:13</td>\n",
              "    </tr>\n",
              "    <tr>\n",
              "      <td>1</td>\n",
              "      <td>1.133369</td>\n",
              "      <td>1.002983</td>\n",
              "      <td>0.721358</td>\n",
              "      <td>00:13</td>\n",
              "    </tr>\n",
              "    <tr>\n",
              "      <td>2</td>\n",
              "      <td>1.088696</td>\n",
              "      <td>0.871368</td>\n",
              "      <td>0.785878</td>\n",
              "      <td>00:13</td>\n",
              "    </tr>\n",
              "    <tr>\n",
              "      <td>3</td>\n",
              "      <td>1.031096</td>\n",
              "      <td>0.820664</td>\n",
              "      <td>0.811339</td>\n",
              "      <td>00:13</td>\n",
              "    </tr>\n",
              "    <tr>\n",
              "      <td>4</td>\n",
              "      <td>0.989267</td>\n",
              "      <td>0.826990</td>\n",
              "      <td>0.819607</td>\n",
              "      <td>00:13</td>\n",
              "    </tr>\n",
              "    <tr>\n",
              "      <td>5</td>\n",
              "      <td>0.937677</td>\n",
              "      <td>0.728288</td>\n",
              "      <td>0.831633</td>\n",
              "      <td>00:13</td>\n",
              "    </tr>\n",
              "    <tr>\n",
              "      <td>6</td>\n",
              "      <td>0.875900</td>\n",
              "      <td>0.692180</td>\n",
              "      <td>0.816084</td>\n",
              "      <td>00:13</td>\n",
              "    </tr>\n",
              "    <tr>\n",
              "      <td>7</td>\n",
              "      <td>0.815290</td>\n",
              "      <td>0.640456</td>\n",
              "      <td>0.837388</td>\n",
              "      <td>00:13</td>\n",
              "    </tr>\n",
              "    <tr>\n",
              "      <td>8</td>\n",
              "      <td>0.765883</td>\n",
              "      <td>0.634770</td>\n",
              "      <td>0.837748</td>\n",
              "      <td>00:13</td>\n",
              "    </tr>\n",
              "    <tr>\n",
              "      <td>9</td>\n",
              "      <td>0.728490</td>\n",
              "      <td>0.636506</td>\n",
              "      <td>0.837349</td>\n",
              "      <td>00:13</td>\n",
              "    </tr>\n",
              "  </tbody>\n",
              "</table>"
            ],
            "text/plain": [
              "<IPython.core.display.HTML object>"
            ]
          },
          "metadata": {
            "tags": []
          }
        },
        {
          "output_type": "stream",
          "text": [
            "Better model found at epoch 0 with acc value: 0.7489476203918457.\n",
            "Better model found at epoch 2 with acc value: 0.7858781814575195.\n",
            "Better model found at epoch 3 with acc value: 0.8113386034965515.\n",
            "Better model found at epoch 4 with acc value: 0.8196074962615967.\n",
            "Better model found at epoch 5 with acc value: 0.8316332697868347.\n",
            "Better model found at epoch 7 with acc value: 0.837388277053833.\n",
            "Better model found at epoch 8 with acc value: 0.8377482295036316.\n",
            "Loaded best saved model from /content/wandb/run-20210605_182558-33poaf2p/files/bestmodel.pth\n"
          ],
          "name": "stdout"
        }
      ]
    },
    {
      "cell_type": "code",
      "metadata": {
        "colab": {
          "base_uri": "https://localhost:8080/"
        },
        "id": "CUC_cbOzgn_C",
        "outputId": "092efc61-e87e-402b-f08c-2764e53dfdb4"
      },
      "source": [
        "learn.export()\n",
        "path = Path('/content/drive/MyDrive/Kaggle/bdd100k_seg/bdd100k/seg/images')\n",
        "path.ls()"
      ],
      "execution_count": 10,
      "outputs": [
        {
          "output_type": "execute_result",
          "data": {
            "text/plain": [
              "[PosixPath('/content/drive/MyDrive/Kaggle/bdd100k_seg/bdd100k/seg/images/test'),\n",
              " PosixPath('/content/drive/MyDrive/Kaggle/bdd100k_seg/bdd100k/seg/images/train'),\n",
              " PosixPath('/content/drive/MyDrive/Kaggle/bdd100k_seg/bdd100k/seg/images/val'),\n",
              " PosixPath('/content/drive/MyDrive/Kaggle/bdd100k_seg/bdd100k/seg/images/models'),\n",
              " PosixPath('/content/drive/MyDrive/Kaggle/bdd100k_seg/bdd100k/seg/images/export.pkl')]"
            ]
          },
          "metadata": {
            "tags": []
          },
          "execution_count": 10
        }
      ]
    },
    {
      "cell_type": "code",
      "metadata": {
        "id": "X-s-_HxC-TgH"
      },
      "source": [
        "path\n",
        "learn_inf = load_learner(path)"
      ],
      "execution_count": 11,
      "outputs": []
    },
    {
      "cell_type": "code",
      "metadata": {
        "id": "62ujnCtS-h7O"
      },
      "source": [
        "learn_inf = load_learner(path)\n"
      ],
      "execution_count": 12,
      "outputs": []
    },
    {
      "cell_type": "code",
      "metadata": {
        "id": "v3J--61bDAnS"
      },
      "source": [
        "import cv2\n",
        "import matplotlib.pyplot as plt\n",
        "from google.colab.patches import cv2_imshow"
      ],
      "execution_count": 13,
      "outputs": []
    },
    {
      "cell_type": "code",
      "metadata": {
        "id": "ryv8LTT0DWu2"
      },
      "source": [
        "from PIL import Image as PImage\n",
        "from fastai.vision import *\n",
        "frame=cv2.imread(\"/content/drive/MyDrive/Kaggle/bdd100k_seg/bdd100k/seg/images/test/ae7bcd76-00000000.jpg\")\n",
        "frame = cv2.cvtColor(frame,cv2.COLOR_BGR2RGB)\n",
        "pil_im = PImage.fromarray(frame) \n",
        "x = pil2tensor(pil_im ,np.float32)\n",
        "preds_num = learn_inf.predict(Image(x))[2].numpy()"
      ],
      "execution_count": 14,
      "outputs": []
    },
    {
      "cell_type": "code",
      "metadata": {
        "colab": {
          "base_uri": "https://localhost:8080/"
        },
        "id": "A91oBf_AETZI",
        "outputId": "43e4d398-a148-43f9-e410-615800087894"
      },
      "source": [
        "len(preds_num)"
      ],
      "execution_count": 15,
      "outputs": [
        {
          "output_type": "execute_result",
          "data": {
            "text/plain": [
              "20"
            ]
          },
          "metadata": {
            "tags": []
          },
          "execution_count": 15
        }
      ]
    },
    {
      "cell_type": "code",
      "metadata": {
        "id": "y0ibUPjSEaw8",
        "colab": {
          "base_uri": "https://localhost:8080/"
        },
        "outputId": "e0358f04-c837-4ebc-a365-6980c206edef"
      },
      "source": [
        "preds_num"
      ],
      "execution_count": 16,
      "outputs": [
        {
          "output_type": "execute_result",
          "data": {
            "text/plain": [
              "array([[[0.000000e+00, 0.000000e+00, 0.000000e+00, 0.000000e+00, ..., 0.000000e+00, 0.000000e+00, 0.000000e+00,\n",
              "         0.000000e+00],\n",
              "        [0.000000e+00, 0.000000e+00, 0.000000e+00, 0.000000e+00, ..., 0.000000e+00, 0.000000e+00, 0.000000e+00,\n",
              "         0.000000e+00],\n",
              "        [0.000000e+00, 0.000000e+00, 0.000000e+00, 0.000000e+00, ..., 0.000000e+00, 0.000000e+00, 0.000000e+00,\n",
              "         0.000000e+00],\n",
              "        [0.000000e+00, 0.000000e+00, 0.000000e+00, 0.000000e+00, ..., 0.000000e+00, 0.000000e+00, 0.000000e+00,\n",
              "         0.000000e+00],\n",
              "        ...,\n",
              "        [0.000000e+00, 0.000000e+00, 0.000000e+00, 0.000000e+00, ..., 0.000000e+00, 0.000000e+00, 0.000000e+00,\n",
              "         4.592840e-40],\n",
              "        [0.000000e+00, 0.000000e+00, 0.000000e+00, 0.000000e+00, ..., 0.000000e+00, 0.000000e+00, 0.000000e+00,\n",
              "         1.450344e-42],\n",
              "        [0.000000e+00, 0.000000e+00, 0.000000e+00, 0.000000e+00, ..., 0.000000e+00, 0.000000e+00, 0.000000e+00,\n",
              "         4.203895e-45],\n",
              "        [0.000000e+00, 0.000000e+00, 0.000000e+00, 0.000000e+00, ..., 0.000000e+00, 0.000000e+00, 0.000000e+00,\n",
              "         0.000000e+00]],\n",
              "\n",
              "       [[0.000000e+00, 0.000000e+00, 0.000000e+00, 0.000000e+00, ..., 0.000000e+00, 0.000000e+00, 0.000000e+00,\n",
              "         0.000000e+00],\n",
              "        [0.000000e+00, 0.000000e+00, 0.000000e+00, 0.000000e+00, ..., 0.000000e+00, 0.000000e+00, 0.000000e+00,\n",
              "         0.000000e+00],\n",
              "        [0.000000e+00, 0.000000e+00, 0.000000e+00, 0.000000e+00, ..., 0.000000e+00, 0.000000e+00, 0.000000e+00,\n",
              "         0.000000e+00],\n",
              "        [0.000000e+00, 0.000000e+00, 0.000000e+00, 0.000000e+00, ..., 0.000000e+00, 0.000000e+00, 0.000000e+00,\n",
              "         0.000000e+00],\n",
              "        ...,\n",
              "        [0.000000e+00, 0.000000e+00, 0.000000e+00, 0.000000e+00, ..., 0.000000e+00, 0.000000e+00, 0.000000e+00,\n",
              "         0.000000e+00],\n",
              "        [0.000000e+00, 0.000000e+00, 0.000000e+00, 0.000000e+00, ..., 0.000000e+00, 0.000000e+00, 0.000000e+00,\n",
              "         0.000000e+00],\n",
              "        [0.000000e+00, 0.000000e+00, 0.000000e+00, 0.000000e+00, ..., 0.000000e+00, 0.000000e+00, 0.000000e+00,\n",
              "         1.589072e-42],\n",
              "        [0.000000e+00, 0.000000e+00, 0.000000e+00, 0.000000e+00, ..., 0.000000e+00, 0.000000e+00, 0.000000e+00,\n",
              "         5.622414e-37]],\n",
              "\n",
              "       [[4.642819e-27, 4.021306e-20, 0.000000e+00, 1.296939e-36, ..., 3.123606e-40, 4.203895e-45, 2.529594e-15,\n",
              "         1.000000e+00],\n",
              "        [0.000000e+00, 0.000000e+00, 0.000000e+00, 0.000000e+00, ..., 0.000000e+00, 0.000000e+00, 0.000000e+00,\n",
              "         2.949237e-38],\n",
              "        [0.000000e+00, 0.000000e+00, 2.802597e-45, 0.000000e+00, ..., 0.000000e+00, 0.000000e+00, 0.000000e+00,\n",
              "         0.000000e+00],\n",
              "        [0.000000e+00, 0.000000e+00, 3.880435e-34, 1.401298e-45, ..., 0.000000e+00, 0.000000e+00, 0.000000e+00,\n",
              "         0.000000e+00],\n",
              "        ...,\n",
              "        [0.000000e+00, 0.000000e+00, 0.000000e+00, 0.000000e+00, ..., 0.000000e+00, 0.000000e+00, 0.000000e+00,\n",
              "         5.788783e-29],\n",
              "        [0.000000e+00, 0.000000e+00, 0.000000e+00, 0.000000e+00, ..., 0.000000e+00, 0.000000e+00, 0.000000e+00,\n",
              "         4.420530e-37],\n",
              "        [0.000000e+00, 0.000000e+00, 0.000000e+00, 0.000000e+00, ..., 0.000000e+00, 0.000000e+00, 0.000000e+00,\n",
              "         0.000000e+00],\n",
              "        [0.000000e+00, 0.000000e+00, 0.000000e+00, 0.000000e+00, ..., 0.000000e+00, 0.000000e+00, 0.000000e+00,\n",
              "         7.006492e-45]],\n",
              "\n",
              "       [[0.000000e+00, 0.000000e+00, 0.000000e+00, 0.000000e+00, ..., 0.000000e+00, 0.000000e+00, 0.000000e+00,\n",
              "         0.000000e+00],\n",
              "        [0.000000e+00, 0.000000e+00, 0.000000e+00, 0.000000e+00, ..., 0.000000e+00, 0.000000e+00, 0.000000e+00,\n",
              "         0.000000e+00],\n",
              "        [0.000000e+00, 0.000000e+00, 0.000000e+00, 0.000000e+00, ..., 0.000000e+00, 0.000000e+00, 0.000000e+00,\n",
              "         0.000000e+00],\n",
              "        [0.000000e+00, 0.000000e+00, 0.000000e+00, 0.000000e+00, ..., 0.000000e+00, 0.000000e+00, 0.000000e+00,\n",
              "         0.000000e+00],\n",
              "        ...,\n",
              "        [0.000000e+00, 0.000000e+00, 0.000000e+00, 0.000000e+00, ..., 0.000000e+00, 0.000000e+00, 0.000000e+00,\n",
              "         0.000000e+00],\n",
              "        [0.000000e+00, 0.000000e+00, 0.000000e+00, 0.000000e+00, ..., 0.000000e+00, 0.000000e+00, 0.000000e+00,\n",
              "         0.000000e+00],\n",
              "        [0.000000e+00, 0.000000e+00, 0.000000e+00, 0.000000e+00, ..., 0.000000e+00, 0.000000e+00, 0.000000e+00,\n",
              "         0.000000e+00],\n",
              "        [0.000000e+00, 0.000000e+00, 0.000000e+00, 0.000000e+00, ..., 0.000000e+00, 0.000000e+00, 0.000000e+00,\n",
              "         0.000000e+00]],\n",
              "\n",
              "       ...,\n",
              "\n",
              "       [[0.000000e+00, 0.000000e+00, 0.000000e+00, 0.000000e+00, ..., 0.000000e+00, 0.000000e+00, 0.000000e+00,\n",
              "         0.000000e+00],\n",
              "        [0.000000e+00, 0.000000e+00, 0.000000e+00, 0.000000e+00, ..., 0.000000e+00, 0.000000e+00, 0.000000e+00,\n",
              "         0.000000e+00],\n",
              "        [0.000000e+00, 0.000000e+00, 0.000000e+00, 0.000000e+00, ..., 0.000000e+00, 0.000000e+00, 0.000000e+00,\n",
              "         0.000000e+00],\n",
              "        [0.000000e+00, 0.000000e+00, 0.000000e+00, 0.000000e+00, ..., 0.000000e+00, 0.000000e+00, 0.000000e+00,\n",
              "         0.000000e+00],\n",
              "        ...,\n",
              "        [0.000000e+00, 0.000000e+00, 0.000000e+00, 0.000000e+00, ..., 0.000000e+00, 0.000000e+00, 0.000000e+00,\n",
              "         0.000000e+00],\n",
              "        [0.000000e+00, 0.000000e+00, 0.000000e+00, 0.000000e+00, ..., 0.000000e+00, 0.000000e+00, 0.000000e+00,\n",
              "         0.000000e+00],\n",
              "        [0.000000e+00, 0.000000e+00, 0.000000e+00, 0.000000e+00, ..., 0.000000e+00, 0.000000e+00, 0.000000e+00,\n",
              "         0.000000e+00],\n",
              "        [0.000000e+00, 0.000000e+00, 0.000000e+00, 0.000000e+00, ..., 0.000000e+00, 0.000000e+00, 0.000000e+00,\n",
              "         0.000000e+00]],\n",
              "\n",
              "       [[0.000000e+00, 0.000000e+00, 0.000000e+00, 0.000000e+00, ..., 0.000000e+00, 0.000000e+00, 0.000000e+00,\n",
              "         0.000000e+00],\n",
              "        [0.000000e+00, 0.000000e+00, 0.000000e+00, 0.000000e+00, ..., 0.000000e+00, 0.000000e+00, 0.000000e+00,\n",
              "         0.000000e+00],\n",
              "        [0.000000e+00, 0.000000e+00, 0.000000e+00, 0.000000e+00, ..., 0.000000e+00, 0.000000e+00, 0.000000e+00,\n",
              "         0.000000e+00],\n",
              "        [0.000000e+00, 0.000000e+00, 0.000000e+00, 0.000000e+00, ..., 0.000000e+00, 0.000000e+00, 0.000000e+00,\n",
              "         0.000000e+00],\n",
              "        ...,\n",
              "        [0.000000e+00, 0.000000e+00, 0.000000e+00, 0.000000e+00, ..., 0.000000e+00, 0.000000e+00, 0.000000e+00,\n",
              "         0.000000e+00],\n",
              "        [0.000000e+00, 0.000000e+00, 0.000000e+00, 0.000000e+00, ..., 0.000000e+00, 0.000000e+00, 0.000000e+00,\n",
              "         0.000000e+00],\n",
              "        [0.000000e+00, 0.000000e+00, 0.000000e+00, 0.000000e+00, ..., 0.000000e+00, 0.000000e+00, 0.000000e+00,\n",
              "         0.000000e+00],\n",
              "        [0.000000e+00, 0.000000e+00, 0.000000e+00, 0.000000e+00, ..., 0.000000e+00, 0.000000e+00, 0.000000e+00,\n",
              "         0.000000e+00]],\n",
              "\n",
              "       [[0.000000e+00, 0.000000e+00, 0.000000e+00, 0.000000e+00, ..., 0.000000e+00, 0.000000e+00, 0.000000e+00,\n",
              "         0.000000e+00],\n",
              "        [0.000000e+00, 0.000000e+00, 0.000000e+00, 0.000000e+00, ..., 0.000000e+00, 0.000000e+00, 0.000000e+00,\n",
              "         0.000000e+00],\n",
              "        [0.000000e+00, 0.000000e+00, 0.000000e+00, 0.000000e+00, ..., 0.000000e+00, 0.000000e+00, 0.000000e+00,\n",
              "         0.000000e+00],\n",
              "        [0.000000e+00, 0.000000e+00, 0.000000e+00, 0.000000e+00, ..., 0.000000e+00, 0.000000e+00, 0.000000e+00,\n",
              "         0.000000e+00],\n",
              "        ...,\n",
              "        [0.000000e+00, 0.000000e+00, 0.000000e+00, 0.000000e+00, ..., 0.000000e+00, 0.000000e+00, 0.000000e+00,\n",
              "         0.000000e+00],\n",
              "        [0.000000e+00, 0.000000e+00, 0.000000e+00, 0.000000e+00, ..., 0.000000e+00, 0.000000e+00, 0.000000e+00,\n",
              "         0.000000e+00],\n",
              "        [0.000000e+00, 0.000000e+00, 0.000000e+00, 0.000000e+00, ..., 0.000000e+00, 0.000000e+00, 0.000000e+00,\n",
              "         0.000000e+00],\n",
              "        [0.000000e+00, 0.000000e+00, 0.000000e+00, 0.000000e+00, ..., 0.000000e+00, 0.000000e+00, 0.000000e+00,\n",
              "         0.000000e+00]],\n",
              "\n",
              "       [[3.116829e-11, 5.159640e-27, 0.000000e+00, 1.821688e-44, ..., 0.000000e+00, 0.000000e+00, 0.000000e+00,\n",
              "         0.000000e+00],\n",
              "        [9.551133e-39, 0.000000e+00, 0.000000e+00, 0.000000e+00, ..., 0.000000e+00, 0.000000e+00, 0.000000e+00,\n",
              "         0.000000e+00],\n",
              "        [8.356492e-16, 1.401298e-45, 0.000000e+00, 0.000000e+00, ..., 0.000000e+00, 0.000000e+00, 0.000000e+00,\n",
              "         0.000000e+00],\n",
              "        [9.973476e-01, 5.317619e-20, 4.111280e-30, 0.000000e+00, ..., 0.000000e+00, 0.000000e+00, 0.000000e+00,\n",
              "         0.000000e+00],\n",
              "        ...,\n",
              "        [1.000000e+00, 1.000000e+00, 6.805005e-01, 9.999996e-01, ..., 2.088602e-32, 1.269845e-38, 1.105733e-18,\n",
              "         9.843135e-01],\n",
              "        [1.000000e+00, 1.000000e+00, 9.999999e-01, 1.000000e+00, ..., 3.935618e-22, 2.501579e-25, 8.544446e-10,\n",
              "         1.000000e+00],\n",
              "        [1.000000e+00, 1.000000e+00, 1.000000e+00, 1.000000e+00, ..., 9.999933e-01, 9.906901e-01, 9.999813e-01,\n",
              "         1.000000e+00],\n",
              "        [1.000000e+00, 1.000000e+00, 1.000000e+00, 1.000000e+00, ..., 1.000000e+00, 1.000000e+00, 1.000000e+00,\n",
              "         1.000000e+00]]], dtype=float32)"
            ]
          },
          "metadata": {
            "tags": []
          },
          "execution_count": 16
        }
      ]
    },
    {
      "cell_type": "code",
      "metadata": {
        "colab": {
          "base_uri": "https://localhost:8080/"
        },
        "id": "MYr4LB4oEee0",
        "outputId": "4642194d-1a01-46e6-d81f-2a2dc5190403"
      },
      "source": [
        "preds_num.shape"
      ],
      "execution_count": 17,
      "outputs": [
        {
          "output_type": "execute_result",
          "data": {
            "text/plain": [
              "(20, 360, 640)"
            ]
          },
          "metadata": {
            "tags": []
          },
          "execution_count": 17
        }
      ]
    },
    {
      "cell_type": "code",
      "metadata": {
        "id": "ZQSTyiww2BUa"
      },
      "source": [
        "pred_argx=np.argmax(preds_num,axis=0)"
      ],
      "execution_count": 18,
      "outputs": []
    },
    {
      "cell_type": "code",
      "metadata": {
        "id": "x_H0lgztkciD",
        "outputId": "9a43eb66-e209-4321-8ac1-572557b89faf",
        "colab": {
          "base_uri": "https://localhost:8080/",
          "height": 257
        }
      },
      "source": [
        "plt.imshow(pred_argx)"
      ],
      "execution_count": 21,
      "outputs": [
        {
          "output_type": "execute_result",
          "data": {
            "text/plain": [
              "<matplotlib.image.AxesImage at 0x7fed719d6f50>"
            ]
          },
          "metadata": {
            "tags": []
          },
          "execution_count": 21
        },
        {
          "output_type": "display_data",
          "data": {
            "image/png": "[encoded data removed]",
            "text/plain": [
              "<Figure size 432x288 with 1 Axes>"
            ]
          },
          "metadata": {
            "tags": [],
            "needs_background": "light"
          }
        }
      ]
    }
  ]
}