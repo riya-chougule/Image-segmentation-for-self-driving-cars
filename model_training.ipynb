{
  "nbformat": 4,
  "nbformat_minor": 0,
  "metadata": {
    "colab": {
      "name": "model_training.ipynb",
      "provenance": [],
      "mount_file_id": "1-i4PF-nuODak7_ystZaTlh3c1ICa4zbZ",
      "authorship_tag": "ABX9TyMXi3Fk0KVbsjYknH8a0CkS",
      "include_colab_link": true
    },
    "kernelspec": {
      "name": "python3",
      "display_name": "Python 3"
    },
    "accelerator": "GPU"
  },
  "cells": [
    {
      "cell_type": "markdown",
      "metadata": {
        "id": "view-in-github",
        "colab_type": "text"
      },
      "source": [
        "<a href=\"https://colab.research.google.com/github/riya-chougule/Image_segmentation_for_self_driving_cars_using_deep_learning_techniques/blob/main/model_training.ipynb\" target=\"_parent\"><img src=\"https://colab.research.google.com/assets/colab-badge.svg\" alt=\"Open In Colab\"/></a>"
      ]
    },
    {
      "cell_type": "code",
      "metadata": {
        "id": "itsu7fF8wRGF"
      },
      "source": [
        "from pathlib import Path\n",
        "from fastai.vision import *\n",
        "import wandb\n",
        "from wandb.fastai import WandbCallback\n",
        "from functools import partialmethod"
      ],
      "execution_count": 1,
      "outputs": []
    },
    {
      "cell_type": "code",
      "metadata": {
        "colab": {
          "base_uri": "https://localhost:8080/",
          "height": 134
        },
        "id": "1uJThQNayH1L",
        "outputId": "a0ebe244-c503-4ec0-db65-b9df3b12341f"
      },
      "source": [
        "# Initialize W&B project\n",
        "wandb.init(project=\"semantic-segmentation\")\n",
        "\n",
        "# Define hyper-parameters\n",
        "config = wandb.config           # for shortening\n",
        "config.framework = \"fast.ai\"    \n",
        "config.img_size = (360, 640)    # dimensions of resized image \n",
        "config.batch_size = 4           # Batch size during training\n",
        "config.epochs = 20              # Number of epochs for training\n",
        "encoder = models.resnet18       # encoder of unet (contracting path)\n",
        "config.encoder = encoder.__name__\n",
        "config.pretrained = True        # whether we use a frozen pre-trained encoder\n",
        "config.weight_decay = 1e-2     # weight decay applied on layers\n",
        "config.bn_weight_decay = False  # whether weight decay is applied on batch norm layers\n",
        "config.one_cycle = True         \n",
        "config.learning_rate = 3e-3     # learning rate\n",
        "save_model = True"
      ],
      "execution_count": 2,
      "outputs": [
        {
          "output_type": "stream",
          "text": [
            "\u001b[34m\u001b[1mwandb\u001b[0m: Currently logged in as: \u001b[33mriya-chougule\u001b[0m (use `wandb login --relogin` to force relogin)\n"
          ],
          "name": "stderr"
        },
        {
          "output_type": "display_data",
          "data": {
            "text/html": [
              "\n",
              "                Tracking run with wandb version 0.10.22<br/>\n",
              "                Syncing run <strong style=\"color:#cdcd00\">stoic-smoke-42</strong> to <a href=\"https://wandb.ai\" target=\"_blank\">Weights & Biases</a> <a href=\"https://docs.wandb.com/integrations/jupyter.html\" target=\"_blank\">(Documentation)</a>.<br/>\n",
              "                Project page: <a href=\"https://wandb.ai/riya-chougule/semantic-segmentation\" target=\"_blank\">https://wandb.ai/riya-chougule/semantic-segmentation</a><br/>\n",
              "                Run page: <a href=\"https://wandb.ai/riya-chougule/semantic-segmentation/runs/1bon2gu3\" target=\"_blank\">https://wandb.ai/riya-chougule/semantic-segmentation/runs/1bon2gu3</a><br/>\n",
              "                Run data is saved locally in <code>/content/wandb/run-20210318_192616-1bon2gu3</code><br/><br/>\n",
              "            "
            ],
            "text/plain": [
              "<IPython.core.display.HTML object>"
            ]
          },
          "metadata": {
            "tags": []
          }
        }
      ]
    },
    {
      "cell_type": "code",
      "metadata": {
        "id": "wbxcD7n-yTa1"
      },
      "source": [
        "# Custom values to filter runs\n",
        "config.training_stages = 2\n",
        "\n",
        "# Data paths\n",
        "path_data = Path('/content/drive/MyDrive/Kaggle/bdd100k_seg/bdd100k/seg')\n",
        "path_lbl = path_data / 'labels'\n",
        "path_img = path_data / 'images'\n",
        "\n",
        "# Associate a label to an input\n",
        "get_y_fn = lambda x: path_lbl / x.parts[-2] / f'{x.stem}_train_id.png'"
      ],
      "execution_count": 3,
      "outputs": []
    },
    {
      "cell_type": "code",
      "metadata": {
        "id": "EoYWAPkryXH0"
      },
      "source": [
        "# Segmentation Classes extracted from dataset source code\n",
        "# See https://github.com/ucbdrive/bdd-data/blob/master/bdd_data/label.py\n",
        "segmentation_classes = [\n",
        "    'road', 'sidewalk', 'building', 'wall', 'fence', 'pole', 'traffic light',\n",
        "    'traffic sign', 'vegetation', 'terrain', 'sky', 'person', 'rider', 'car',\n",
        "    'truck', 'bus', 'train', 'motorcycle', 'bicycle', 'void'\n",
        "]\n",
        "void_code = 19  # used to define accuracy and disconsider unlabeled pixels"
      ],
      "execution_count": 4,
      "outputs": []
    },
    {
      "cell_type": "code",
      "metadata": {
        "id": "WnX0j7mEyhO9"
      },
      "source": [
        "# Load data into train & validation sets\n",
        "src = (SegmentationItemList.from_folder(path_img).use_partial_data(0.01)\n",
        "       .split_by_folder(train='train', valid='val')\n",
        "       .label_from_func(get_y_fn, classes=segmentation_classes))\n",
        "\n",
        "# Resize, augment, load in batch & normalize (so we can use pre-trained networks)\n",
        "data = (src.transform(get_transforms(), size=config.img_size, tfm_y=True)\n",
        "        .databunch(bs=config.batch_size)\n",
        "        .normalize(imagenet_stats))"
      ],
      "execution_count": 5,
      "outputs": []
    },
    {
      "cell_type": "code",
      "metadata": {
        "id": "is6ABRDdyk0F"
      },
      "source": [
        "# Define accuracy & ignore unlabeled pixels\n",
        "def acc(input, target):\n",
        "    target = target.squeeze(1)\n",
        "    mask = target != void_code\n",
        "    return (input.argmax(dim=1)[mask] == target[mask]).float().mean()"
      ],
      "execution_count": 6,
      "outputs": []
    },
    {
      "cell_type": "code",
      "metadata": {
        "id": "qCkfvGrcym7G"
      },
      "source": [
        "# Create NN\n",
        "learn = unet_learner(\n",
        "    data,\n",
        "    arch=encoder,\n",
        "    pretrained=config.pretrained,\n",
        "    metrics=acc,\n",
        "    wd=config.weight_decay,\n",
        "    bn_wd=config.bn_weight_decay,\n",
        "    callback_fns=partial(WandbCallback, save_model=save_model, monitor='acc', input_type='images'))"
      ],
      "execution_count": 7,
      "outputs": []
    },
    {
      "cell_type": "code",
      "metadata": {
        "colab": {
          "base_uri": "https://localhost:8080/",
          "height": 908
        },
        "id": "sv7KlZYPyo3O",
        "outputId": "0debe5b7-f56c-4569-e7f3-d0aec47d1bf7"
      },
      "source": [
        "# Train\n",
        "if config.one_cycle:\n",
        "    learn.fit_one_cycle(\n",
        "        config.epochs // 2,\n",
        "        max_lr=slice(config.learning_rate))\n",
        "    learn.unfreeze()\n",
        "    learn.fit_one_cycle(\n",
        "        config.epochs // 2,\n",
        "        max_lr=slice(config.learning_rate / 100,\n",
        "                     config.learning_rate / 10))\n",
        "else:\n",
        "    learn.fit(\n",
        "        config.epochs,\n",
        "        lr=slice(config.learning_rate))"
      ],
      "execution_count": 8,
      "outputs": [
        {
          "output_type": "display_data",
          "data": {
            "text/html": [
              "<table border=\"1\" class=\"dataframe\">\n",
              "  <thead>\n",
              "    <tr style=\"text-align: left;\">\n",
              "      <th>epoch</th>\n",
              "      <th>train_loss</th>\n",
              "      <th>valid_loss</th>\n",
              "      <th>acc</th>\n",
              "      <th>time</th>\n",
              "    </tr>\n",
              "  </thead>\n",
              "  <tbody>\n",
              "    <tr>\n",
              "      <td>0</td>\n",
              "      <td>2.054692</td>\n",
              "      <td>1.224326</td>\n",
              "      <td>0.669409</td>\n",
              "      <td>00:23</td>\n",
              "    </tr>\n",
              "    <tr>\n",
              "      <td>1</td>\n",
              "      <td>1.992331</td>\n",
              "      <td>1.571111</td>\n",
              "      <td>0.355714</td>\n",
              "      <td>00:12</td>\n",
              "    </tr>\n",
              "    <tr>\n",
              "      <td>2</td>\n",
              "      <td>2.057285</td>\n",
              "      <td>1.664393</td>\n",
              "      <td>0.436778</td>\n",
              "      <td>00:12</td>\n",
              "    </tr>\n",
              "    <tr>\n",
              "      <td>3</td>\n",
              "      <td>2.165433</td>\n",
              "      <td>1.609397</td>\n",
              "      <td>0.508266</td>\n",
              "      <td>00:12</td>\n",
              "    </tr>\n",
              "    <tr>\n",
              "      <td>4</td>\n",
              "      <td>2.042537</td>\n",
              "      <td>1.426775</td>\n",
              "      <td>0.433439</td>\n",
              "      <td>00:12</td>\n",
              "    </tr>\n",
              "    <tr>\n",
              "      <td>5</td>\n",
              "      <td>1.890583</td>\n",
              "      <td>1.244051</td>\n",
              "      <td>0.564548</td>\n",
              "      <td>00:12</td>\n",
              "    </tr>\n",
              "    <tr>\n",
              "      <td>6</td>\n",
              "      <td>1.749517</td>\n",
              "      <td>1.154886</td>\n",
              "      <td>0.563719</td>\n",
              "      <td>00:12</td>\n",
              "    </tr>\n",
              "    <tr>\n",
              "      <td>7</td>\n",
              "      <td>1.599788</td>\n",
              "      <td>1.051275</td>\n",
              "      <td>0.627891</td>\n",
              "      <td>00:12</td>\n",
              "    </tr>\n",
              "    <tr>\n",
              "      <td>8</td>\n",
              "      <td>1.463508</td>\n",
              "      <td>1.074189</td>\n",
              "      <td>0.611595</td>\n",
              "      <td>00:12</td>\n",
              "    </tr>\n",
              "    <tr>\n",
              "      <td>9</td>\n",
              "      <td>1.370301</td>\n",
              "      <td>1.055574</td>\n",
              "      <td>0.625905</td>\n",
              "      <td>00:12</td>\n",
              "    </tr>\n",
              "  </tbody>\n",
              "</table>"
            ],
            "text/plain": [
              "<IPython.core.display.HTML object>"
            ]
          },
          "metadata": {
            "tags": []
          }
        },
        {
          "output_type": "stream",
          "text": [
            "/usr/local/lib/python3.7/dist-packages/torch/nn/modules/module.py:795: UserWarning: Using a non-full backward hook when the forward contains multiple autograd Nodes is deprecated and will be removed in future versions. This hook will be missing some grad_input. Please use register_full_backward_hook to get the documented behavior.\n",
            "  warnings.warn(\"Using a non-full backward hook when the forward contains multiple autograd Nodes \"\n"
          ],
          "name": "stderr"
        },
        {
          "output_type": "stream",
          "text": [
            "Better model found at epoch 0 with acc value: 0.6694086194038391.\n",
            "Loaded best saved model from /content/wandb/run-20210318_192616-1bon2gu3/files/bestmodel.pth\n"
          ],
          "name": "stdout"
        },
        {
          "output_type": "display_data",
          "data": {
            "text/html": [
              "<table border=\"1\" class=\"dataframe\">\n",
              "  <thead>\n",
              "    <tr style=\"text-align: left;\">\n",
              "      <th>epoch</th>\n",
              "      <th>train_loss</th>\n",
              "      <th>valid_loss</th>\n",
              "      <th>acc</th>\n",
              "      <th>time</th>\n",
              "    </tr>\n",
              "  </thead>\n",
              "  <tbody>\n",
              "    <tr>\n",
              "      <td>0</td>\n",
              "      <td>1.400255</td>\n",
              "      <td>0.982005</td>\n",
              "      <td>0.674887</td>\n",
              "      <td>00:13</td>\n",
              "    </tr>\n",
              "    <tr>\n",
              "      <td>1</td>\n",
              "      <td>1.341155</td>\n",
              "      <td>0.941101</td>\n",
              "      <td>0.738613</td>\n",
              "      <td>00:13</td>\n",
              "    </tr>\n",
              "    <tr>\n",
              "      <td>2</td>\n",
              "      <td>1.274747</td>\n",
              "      <td>0.786095</td>\n",
              "      <td>0.760430</td>\n",
              "      <td>00:13</td>\n",
              "    </tr>\n",
              "    <tr>\n",
              "      <td>3</td>\n",
              "      <td>1.167290</td>\n",
              "      <td>0.685745</td>\n",
              "      <td>0.833505</td>\n",
              "      <td>00:13</td>\n",
              "    </tr>\n",
              "    <tr>\n",
              "      <td>4</td>\n",
              "      <td>1.047046</td>\n",
              "      <td>0.611362</td>\n",
              "      <td>0.839518</td>\n",
              "      <td>00:13</td>\n",
              "    </tr>\n",
              "    <tr>\n",
              "      <td>5</td>\n",
              "      <td>0.976607</td>\n",
              "      <td>0.606744</td>\n",
              "      <td>0.845238</td>\n",
              "      <td>00:13</td>\n",
              "    </tr>\n",
              "    <tr>\n",
              "      <td>6</td>\n",
              "      <td>0.886535</td>\n",
              "      <td>0.478893</td>\n",
              "      <td>0.876563</td>\n",
              "      <td>00:13</td>\n",
              "    </tr>\n",
              "    <tr>\n",
              "      <td>7</td>\n",
              "      <td>0.827535</td>\n",
              "      <td>0.492752</td>\n",
              "      <td>0.872245</td>\n",
              "      <td>00:13</td>\n",
              "    </tr>\n",
              "    <tr>\n",
              "      <td>8</td>\n",
              "      <td>0.764293</td>\n",
              "      <td>0.438786</td>\n",
              "      <td>0.886581</td>\n",
              "      <td>00:13</td>\n",
              "    </tr>\n",
              "    <tr>\n",
              "      <td>9</td>\n",
              "      <td>0.722190</td>\n",
              "      <td>0.439871</td>\n",
              "      <td>0.885276</td>\n",
              "      <td>00:13</td>\n",
              "    </tr>\n",
              "  </tbody>\n",
              "</table>"
            ],
            "text/plain": [
              "<IPython.core.display.HTML object>"
            ]
          },
          "metadata": {
            "tags": []
          }
        },
        {
          "output_type": "stream",
          "text": [
            "Better model found at epoch 0 with acc value: 0.6748870611190796.\n",
            "Better model found at epoch 1 with acc value: 0.7386133670806885.\n",
            "Better model found at epoch 2 with acc value: 0.7604303956031799.\n",
            "Better model found at epoch 3 with acc value: 0.8335053324699402.\n",
            "Better model found at epoch 4 with acc value: 0.8395175933837891.\n",
            "Better model found at epoch 5 with acc value: 0.8452381491661072.\n",
            "Better model found at epoch 6 with acc value: 0.8765628933906555.\n",
            "Better model found at epoch 8 with acc value: 0.8865813612937927.\n",
            "Loaded best saved model from /content/wandb/run-20210318_192616-1bon2gu3/files/bestmodel.pth\n"
          ],
          "name": "stdout"
        }
      ]
    }
  ]
}