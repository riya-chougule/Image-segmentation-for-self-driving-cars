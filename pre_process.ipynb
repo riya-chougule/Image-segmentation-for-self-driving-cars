{
  "nbformat": 4,
  "nbformat_minor": 0,
  "metadata": {
    "colab": {
      "name": "Untitled0.ipynb",
      "provenance": [],
      "authorship_tag": "ABX9TyNneUcSKYY8L3o8Mw8u1an6",
      "include_colab_link": true
    },
    "kernelspec": {
      "name": "python3",
      "display_name": "Python 3"
    }
  },
  "cells": [
    {
      "cell_type": "markdown",
      "metadata": {
        "id": "view-in-github",
        "colab_type": "text"
      },
      "source": [
        "<a href=\"https://colab.research.google.com/github/riya-chougule/Image_segmentation_for_self_driving_cars_using_deep_learning_techniques/blob/main/pre_process.ipynb\" target=\"_parent\"><img src=\"https://colab.research.google.com/assets/colab-badge.svg\" alt=\"Open In Colab\"/></a>"
      ]
    },
    {
      "cell_type": "code",
      "metadata": {
        "id": "gyr_pvHuNykB"
      },
      "source": [
        "from pathlib import Path\n",
        "from tqdm import tqdm\n",
        "from fastai.vision import get_image_files\n",
        "import PIL"
      ],
      "execution_count": 1,
      "outputs": []
    },
    {
      "cell_type": "code",
      "metadata": {
        "id": "1hCqKXupN4OC"
      },
      "source": [
        "path_data = Path('/home/riya/Desktop/Project_datasets/bdd100k_seg/bdd100k/seg')\n",
        "path_lbl = path_data / '/home/riya/Desktop/Project_datasets/bdd100k_seg/bdd100k/seg/labels'\n",
        "lbl_names = get_image_files(path_lbl, recurse=True)"
      ],
      "execution_count": 2,
      "outputs": []
    },
    {
      "cell_type": "code",
      "metadata": {
        "colab": {
          "base_uri": "https://localhost:8080/"
        },
        "id": "3MATqLOSOr_N",
        "outputId": "1690f6c2-7c00-4e6f-84d5-dfbefa6a5f41"
      },
      "source": [
        "for lbl_name in tqdm(lbl_names):\n",
        "    img = PIL.Image.open(lbl_name)\n",
        "    pixels = img.load()\n",
        "    for i in range(img.size[0]):\n",
        "        for j in range(img.size[1]):\n",
        "            if pixels[i, j] == 255:\n",
        "                pixels[i, j] = 19\n",
        "    img.save(lbl_name)"
      ],
      "execution_count": 3,
      "outputs": [
        {
          "output_type": "stream",
          "text": [
            "0it [00:00, ?it/s]\n"
          ],
          "name": "stderr"
        }
      ]
    },
    {
      "cell_type": "code",
      "metadata": {
        "id": "43LYSqLEOxcn"
      },
      "source": [
        ""
      ],
      "execution_count": null,
      "outputs": []
    }
  ]
}